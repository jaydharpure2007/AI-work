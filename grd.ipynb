{
 "cells": [
  {
   "cell_type": "code",
   "execution_count": 21,
   "metadata": {},
   "outputs": [
    {
     "name": "stdout",
     "output_type": "stream",
     "text": [
      "m 4.96, b 1.44, cost 89.0 iteration 0\n",
      "m 0.4991999999999983, b 0.26879999999999993, cost 71.10560000000002 iteration 1\n",
      "m 4.451584000000002, b 1.426176000000001, cost 56.8297702400001 iteration 2\n",
      "m 0.892231679999997, b 0.5012275199999995, cost 45.43965675929613 iteration 3\n",
      "m 4.041314713600002, b 1.432759910400001, cost 36.35088701894832 iteration 4\n",
      "m 1.2008760606719973, b 0.7036872622079998, cost 29.097483330142282 iteration 5\n",
      "m 3.7095643080294423, b 1.4546767911321612, cost 23.307872849944438 iteration 6\n",
      "m 1.4424862661541864, b 0.881337636696883, cost 18.685758762535738 iteration 7\n",
      "m 3.4406683721083144, b 1.4879302070713722, cost 14.994867596913156 iteration 8\n",
      "m 1.6308855378034224, b 1.0383405553279617, cost 12.046787238456794 iteration 9\n"
     ]
    }
   ],
   "source": [
    "import numpy as np\n",
    "import matplotlib.pyplot as plt\n",
    "def gradient_descent(x,y):\n",
    "    w1 = b1 = 0\n",
    "    iterations = 10\n",
    "    n = len(x)\n",
    "    learning_rate = 0.08\n",
    "\n",
    "    for i in range(iterations):\n",
    "        y_predicted = w1 * x + b1\n",
    "        cost = (2/n) * sum([val**2 for val in (y-y_predicted)])\n",
    "        w1d = -(1/n)*sum(x*(y-y_predicted))\n",
    "        b1d = -(1/n)*sum(y-y_predicted)\n",
    "        w1 = w1 - learning_rate * w1d\n",
    "        b1 = b1 - learning_rate * b1d\n",
    "        print (\"m {}, b {}, cost {} iteration {}\".format(w1,b1,cost, i))\n",
    "\n",
    "x = np.array([1,2,3,4,5,6])\n",
    "y = np.array([5,7,9,11,13, 15])\n",
    "\n",
    "gradient_descent(x,y)"
   ]
  },
  {
   "cell_type": "code",
   "execution_count": 2,
   "metadata": {},
   "outputs": [],
   "source": [
    "import numpy as np\n",
    "def sigmoid (x):\n",
    "    s = 1/(1+np.exp(-x))\n",
    "    return s"
   ]
  },
  {
   "cell_type": "code",
   "execution_count": 8,
   "metadata": {},
   "outputs": [
    {
     "name": "stdout",
     "output_type": "stream",
     "text": [
      "m 0.00192, b 0.00768, cost 0.22816000000000003 iteration 0\n",
      "m 0.0037986832664096085, b 0.015194880940939766, cost 0.22731605483893536 iteration 1\n",
      "m 0.005636870654175792, b 0.02254819850971875, cost 0.22650679975944002 iteration 2\n",
      "m 0.007435373450297474, b 0.0297434371271685, cost 0.22573081551541746 iteration 3\n",
      "m 0.009194992884388065, b 0.03678401079563446, cost 0.22498673749649623 iteration 4\n"
     ]
    }
   ],
   "source": [
    "import numpy as np\n",
    "import matplotlib.pyplot as plt\n",
    "def gradient_descent(x,y):\n",
    "    w1 = b1 = 0\n",
    "    iterations = 5\n",
    "    n = len(x)\n",
    "    learning_rate = 0.08\n",
    "\n",
    "    for i in range(iterations):\n",
    "        neth1 = w1 * x + b1\n",
    "        outh1 = sigmoid(neth1)\n",
    "        cost = (2/n) * sum([val**2 for val in (y-outh1)])\n",
    "        w1d = -(1/n)*sum((y-outh1)*outh1*(1-outh1))\n",
    "        b1d = -(1/n)*sum(y-outh1)\n",
    "        w1 = w1 - learning_rate * w1d\n",
    "        b1 = b1 - learning_rate * b1d\n",
    "        print (\"m {}, b {}, cost {} iteration {}\".format(w1,b1,cost, i))\n",
    "\n",
    "#x = np.array([1,2,3,4,5,6])\n",
    "#y = np.array([5,7,9,11,13, 15])\n",
    "x = np.array([0.1,0.2,0.3,0.4,0.5])\n",
    "y = np.array([0.1,0.6,0.9,0.4,0.98])\n",
    "\n",
    "gradient_descent(x,y)"
   ]
  },
  {
   "cell_type": "code",
   "execution_count": 24,
   "metadata": {},
   "outputs": [
    {
     "data": {
      "text/plain": [
       "<matplotlib.collections.PathCollection at 0x1de8f7a95d0>"
      ]
     },
     "execution_count": 24,
     "metadata": {},
     "output_type": "execute_result"
    },
    {
     "data": {
      "image/png": "[encoded data removed]",
      "text/plain": [
       "<Figure size 640x480 with 1 Axes>"
      ]
     },
     "metadata": {},
     "output_type": "display_data"
    }
   ],
   "source": [
    "plt.scatter(x,y)"
   ]
  },
  {
   "cell_type": "code",
   "execution_count": null,
   "metadata": {},
   "outputs": [],
   "source": []
  }
 ],
 "metadata": {
  "kernelspec": {
   "display_name": "Python 3.10.6 ('Discharge_paper')",
   "language": "python",
   "name": "python3"
  },
  "language_info": {
   "codemirror_mode": {
    "name": "ipython",
    "version": 3
   },
   "file_extension": ".py",
   "mimetype": "text/x-python",
   "name": "python",
   "nbconvert_exporter": "python",
   "pygments_lexer": "ipython3",
   "version": "3.10.6"
  },
  "orig_nbformat": 4,
  "vscode": {
   "interpreter": {
    "hash": "513cad5dc9a6a7c4a9e18e77b2d04fd0d6efe7c83ba2779ae41e966d2f699eea"
   }
  }
 },
 "nbformat": 4,
 "nbformat_minor": 2
}
